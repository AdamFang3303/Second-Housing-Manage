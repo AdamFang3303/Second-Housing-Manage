{
 "cells": [
  {
   "cell_type": "code",
   "execution_count": null,
   "id": "ba657a32-8151-45a4-83f3-4ce215f3619d",
   "metadata": {},
   "outputs": [],
   "source": [
    "import pandas as pd \n",
    "import numpy as np\n",
    "from flask import Flask\n",
    "from flask import render_template , request\n",
    "from flask_sqlalchemy import SQLAlchemy\n",
    "from sqlalchemy import text"
   ]
  },
  {
   "cell_type": "markdown",
   "id": "aa4fe8d3-604f-42a1-9425-d65aeb0e4090",
   "metadata": {},
   "source": [
    "导入数据库"
   ]
  },
  {
   "cell_type": "code",
   "execution_count": null,
   "id": "d7dcc8b0-8035-4999-8e6a-725ac14dc90b",
   "metadata": {},
   "outputs": [],
   "source": [
    "app = Flask(__name__)\n",
    "\n",
    "# 配置数据库连接\n",
    "HOSTNAME = \"127.0.0.1\"\n",
    "PORT = 3306\n",
    "USERNAME = \"root\"\n",
    "PASSWORD = '123456'\n",
    "DATABASE = \"flask_test\"\n",
    "\n",
    "app.config['SQLALCHEMY_DATABASE_URI'] = f\"mysql+pymysql://{USERNAME}:{PASSWORD}@{HOSTNAME}:{PORT}/{DATABASE}?charset=utf8mb4\"\n",
    "app.config['SQLALCHEMY_TRACK_MODIFICATIONS'] = False  # 关闭对模型修改的监控\n",
    "\n",
    "#初始化\n",
    "db=SQLAlchemy(app)\n",
    "\n",
    "# 定义数据库模型\n",
    "class HouseInfo(db.Model):\n",
    "    __tablename__ = 'house_info'\n",
    "    id = db.Column(db.Integer, primary_key=True)\n",
    "    house_info_link = db.Column(db.String(255), nullable=False)\n",
    "    house_address = db.Column(db.String(255), nullable=False)\n",
    "    house_type = db.Column(db.String(50), nullable=False)\n",
    "    house_area = db.Column(db.Float, nullable=False)\n",
    "    orientation = db.Column(db.String(50), nullable=False)\n",
    "    decoration = db.Column(db.String(50), nullable=False)\n",
    "    floor = db.Column(db.String(50), nullable=False)\n",
    "    year = db.Column(db.Integer)\n",
    "    house_category = db.Column(db.String(50), nullable=False)\n",
    "    price = db.Column(db.DECIMAL(10, 2), nullable=False)\n",
    "    city = db.Column(db.String(50), nullable=False)"
   ]
  }
 ],
 "metadata": {
  "kernelspec": {
   "display_name": "Python 3 (ipykernel)",
   "language": "python",
   "name": "python3"
  },
  "language_info": {
   "codemirror_mode": {
    "name": "ipython",
    "version": 3
   },
   "file_extension": ".py",
   "mimetype": "text/x-python",
   "name": "python",
   "nbconvert_exporter": "python",
   "pygments_lexer": "ipython3",
   "version": "3.13.1"
  }
 },
 "nbformat": 4,
 "nbformat_minor": 5
}
